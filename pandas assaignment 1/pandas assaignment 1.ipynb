{
 "cells": [
  {
   "cell_type": "code",
   "execution_count": 1,
   "id": "99ad16c9",
   "metadata": {},
   "outputs": [
    {
     "name": "stdout",
     "output_type": "stream",
     "text": [
      "0     4\n",
      "1     8\n",
      "2    15\n",
      "3    16\n",
      "4    23\n",
      "5    42\n",
      "dtype: int64\n"
     ]
    }
   ],
   "source": [
    "#Create a Pandas Series that contains the following data: 4, 8, 15, 16, 23, and 42. Then, print the series\n",
    "\n",
    "import pandas as pd\n",
    "\n",
    "# Create the Series\n",
    "data = [4, 8, 15, 16, 23, 42]\n",
    "my_series = pd.Series(data)\n",
    "\n",
    "# Print the Series\n",
    "print(my_series)\n"
   ]
  },
  {
   "cell_type": "code",
   "execution_count": 2,
   "id": "9bdaa633",
   "metadata": {},
   "outputs": [
    {
     "name": "stdout",
     "output_type": "stream",
     "text": [
      "0     1\n",
      "1     2\n",
      "2     3\n",
      "3     4\n",
      "4     5\n",
      "5     6\n",
      "6     7\n",
      "7     8\n",
      "8     9\n",
      "9    10\n",
      "dtype: int64\n"
     ]
    }
   ],
   "source": [
    "#Create a variable of list type containing 10 elements in it, and apply pandas.Series function on the   variable print it\n",
    "\n",
    "import pandas as pd\n",
    "\n",
    "# Create a list with 10 elements\n",
    "my_list = [1, 2, 3, 4, 5, 6, 7, 8, 9, 10]\n",
    "\n",
    "# Convert the list to a Pandas Series\n",
    "my_series = pd.Series(my_list)\n",
    "\n",
    "# Print the Series\n",
    "print(my_series)\n"
   ]
  },
  {
   "cell_type": "code",
   "execution_count": 4,
   "id": "f2386793",
   "metadata": {},
   "outputs": [],
   "source": [
    "import pandas as pd\n",
    "\n",
    "\n",
    "s_data=pd.DataFrame({\"Name\":[\"alice\",\"bob\",\"claire\"],\"Age\":[25,30,27],\"gender\":[\"female\",\"male\",\"female\"]})"
   ]
  },
  {
   "cell_type": "code",
   "execution_count": 5,
   "id": "984e609a",
   "metadata": {},
   "outputs": [
    {
     "data": {
      "text/html": [
       "<div>\n",
       "<style scoped>\n",
       "    .dataframe tbody tr th:only-of-type {\n",
       "        vertical-align: middle;\n",
       "    }\n",
       "\n",
       "    .dataframe tbody tr th {\n",
       "        vertical-align: top;\n",
       "    }\n",
       "\n",
       "    .dataframe thead th {\n",
       "        text-align: right;\n",
       "    }\n",
       "</style>\n",
       "<table border=\"1\" class=\"dataframe\">\n",
       "  <thead>\n",
       "    <tr style=\"text-align: right;\">\n",
       "      <th></th>\n",
       "      <th>Name</th>\n",
       "      <th>Age</th>\n",
       "      <th>gender</th>\n",
       "    </tr>\n",
       "  </thead>\n",
       "  <tbody>\n",
       "    <tr>\n",
       "      <th>0</th>\n",
       "      <td>alice</td>\n",
       "      <td>25</td>\n",
       "      <td>female</td>\n",
       "    </tr>\n",
       "    <tr>\n",
       "      <th>1</th>\n",
       "      <td>bob</td>\n",
       "      <td>30</td>\n",
       "      <td>male</td>\n",
       "    </tr>\n",
       "    <tr>\n",
       "      <th>2</th>\n",
       "      <td>claire</td>\n",
       "      <td>27</td>\n",
       "      <td>female</td>\n",
       "    </tr>\n",
       "  </tbody>\n",
       "</table>\n",
       "</div>"
      ],
      "text/plain": [
       "     Name  Age  gender\n",
       "0   alice   25  female\n",
       "1     bob   30    male\n",
       "2  claire   27  female"
      ]
     },
     "execution_count": 5,
     "metadata": {},
     "output_type": "execute_result"
    }
   ],
   "source": [
    "s_data"
   ]
  },
  {
   "cell_type": "code",
   "execution_count": 10,
   "id": "6a547836",
   "metadata": {},
   "outputs": [
    {
     "data": {
      "text/plain": [
       "'Pandas Series:\\nA Pandas Series is a one-dimensional array-like object that can hold data of any type (such as integers, floats, strings, etc.).\\nIt is labeled, meaning each element has a unique identifier called an index.\\nThink of a Series as a column in a spreadsheet or a single column of a database table.\\nSeries are fundamental building blocks in Pandas and are commonly used for data manipulation and analysis tasks.\\nPandas DataFrame:\\nA Pandas DataFrame is a two-dimensional table-like structure that consists of multiple Series objects.\\nIt can be thought of as a collection of Series, where each Series represents a column.\\nDataFrames are commonly used for handling structured data, such as data from CSV files, databases, or Excel spreadsheets.'"
      ]
     },
     "execution_count": 10,
     "metadata": {},
     "output_type": "execute_result"
    }
   ],
   "source": [
    "#What is ‘DataFrame’ in pandas and how is it different from pandas.series? Explain with an example.\n",
    "\"\"\"Pandas Series:\n",
    "A Pandas Series is a one-dimensional array-like object that can hold data of any type (such as integers, floats, strings, etc.).\n",
    "It is labeled, meaning each element has a unique identifier called an index.\n",
    "Think of a Series as a column in a spreadsheet or a single column of a database table.\n",
    "Series are fundamental building blocks in Pandas and are commonly used for data manipulation and analysis tasks.\n",
    "Pandas DataFrame:\n",
    "A Pandas DataFrame is a two-dimensional table-like structure that consists of multiple Series objects.\n",
    "It can be thought of as a collection of Series, where each Series represents a column.\n",
    "DataFrames are commonly used for handling structured data, such as data from CSV files, databases, or Excel spreadsheets.\"\"\""
   ]
  },
  {
   "cell_type": "code",
   "execution_count": 11,
   "id": "2b1fae08",
   "metadata": {},
   "outputs": [
    {
     "name": "stdout",
     "output_type": "stream",
     "text": [
      "0     4\n",
      "1     8\n",
      "2    15\n",
      "3    16\n",
      "4    23\n",
      "5    42\n",
      "dtype: int64\n"
     ]
    }
   ],
   "source": [
    "import pandas as pd\n",
    "\n",
    "# Create a Series from a list\n",
    "data = [4, 8, 15, 16, 23, 42]\n",
    "my_series = pd.Series(data)\n",
    "\n",
    "print(my_series)\n"
   ]
  },
  {
   "cell_type": "code",
   "execution_count": 12,
   "id": "a235dd1d",
   "metadata": {},
   "outputs": [
    {
     "name": "stdout",
     "output_type": "stream",
     "text": [
      "      Name  Age  Salary\n",
      "0    Alice   25   50000\n",
      "1      Bob   30   60000\n",
      "2  Charlie   22   45000\n"
     ]
    }
   ],
   "source": [
    "# Create a DataFrame from dictionaries\n",
    "data_dict = {'Name': ['Alice', 'Bob', 'Charlie'],\n",
    "             'Age': [25, 30, 22],\n",
    "             'Salary': [50000, 60000, 45000]}\n",
    "\n",
    "df = pd.DataFrame(data_dict)\n",
    "\n",
    "print(df)\n"
   ]
  },
  {
   "cell_type": "code",
   "execution_count": 13,
   "id": "bd5b4329",
   "metadata": {},
   "outputs": [],
   "source": [
    "# What are some common functions you can use to manipulate data in a Pandas DataFrame? Can \n",
    "#you give an example of when you might use one of these functions?\n",
    " #Q6. Which of the following is mutable in nature Series, DataFrame, Panel?\n",
    " #Q7. Create a DataFrame using multiple Series. Explain with an example"
   ]
  },
  {
   "cell_type": "code",
   "execution_count": 14,
   "id": "91b00cd5",
   "metadata": {},
   "outputs": [
    {
     "name": "stdout",
     "output_type": "stream",
     "text": [
      "      Name  Age\n",
      "0    Alice   25\n",
      "1      Bob   30\n",
      "2  Charlie   22\n"
     ]
    },
    {
     "name": "stderr",
     "output_type": "stream",
     "text": [
      "C:\\Users\\chand\\AppData\\Local\\Temp\\ipykernel_20936\\3010986662.py:10: FutureWarning: The frame.append method is deprecated and will be removed from pandas in a future version. Use pandas.concat instead.\n",
      "  df = df.append(new_row, ignore_index=True)\n"
     ]
    }
   ],
   "source": [
    "import pandas as pd\n",
    "\n",
    "# Create an initial DataFrame\n",
    "data = {'Name': ['Alice', 'Bob'],\n",
    "        'Age': [25, 30]}\n",
    "df = pd.DataFrame(data)\n",
    "\n",
    "# Add a new row\n",
    "new_row = {'Name': 'Charlie', 'Age': 22}\n",
    "df = df.append(new_row, ignore_index=True)\n",
    "\n",
    "print(df)\n"
   ]
  },
  {
   "cell_type": "code",
   "execution_count": 15,
   "id": "698b8ebb",
   "metadata": {},
   "outputs": [
    {
     "name": "stdout",
     "output_type": "stream",
     "text": [
      "      Name\n",
      "0    Alice\n",
      "1      Bob\n",
      "2  Charlie\n"
     ]
    }
   ],
   "source": [
    "# Remove the 'Age' column\n",
    "df.drop(columns=['Age'], inplace=True)\n",
    "print(df)\n"
   ]
  },
  {
   "cell_type": "code",
   "execution_count": 16,
   "id": "fc296966",
   "metadata": {},
   "outputs": [
    {
     "name": "stdout",
     "output_type": "stream",
     "text": [
      "  Full Name\n",
      "0     Alice\n",
      "1       Bob\n",
      "2   Charlie\n"
     ]
    }
   ],
   "source": [
    "df.rename(columns={'Name': 'Full Name'}, inplace=True)\n",
    "print(df)\n"
   ]
  },
  {
   "cell_type": "code",
   "execution_count": 18,
   "id": "c2587c14",
   "metadata": {},
   "outputs": [
    {
     "name": "stdout",
     "output_type": "stream",
     "text": [
      "     Author  Article\n",
      "0  Jitender      210\n",
      "1   Purnima      211\n",
      "2     Arpit      114\n",
      "3     Jyoti      178\n"
     ]
    }
   ],
   "source": [
    "\n",
    "import pandas as pd\n",
    "\n",
    "author = pd.Series(['Jitender', 'Purnima', 'Arpit', 'Jyoti'])\n",
    "article = pd.Series([210, 211, 114, 178])\n",
    "\n",
    "frame = {'Author': author, 'Article': article}\n",
    "result = pd.DataFrame(frame)\n",
    "\n",
    "print(result)\n"
   ]
  },
  {
   "cell_type": "code",
   "execution_count": null,
   "id": "858bd523",
   "metadata": {},
   "outputs": [],
   "source": []
  }
 ],
 "metadata": {
  "kernelspec": {
   "display_name": "Python 3 (ipykernel)",
   "language": "python",
   "name": "python3"
  },
  "language_info": {
   "codemirror_mode": {
    "name": "ipython",
    "version": 3
   },
   "file_extension": ".py",
   "mimetype": "text/x-python",
   "name": "python",
   "nbconvert_exporter": "python",
   "pygments_lexer": "ipython3",
   "version": "3.10.9"
  }
 },
 "nbformat": 4,
 "nbformat_minor": 5
}
