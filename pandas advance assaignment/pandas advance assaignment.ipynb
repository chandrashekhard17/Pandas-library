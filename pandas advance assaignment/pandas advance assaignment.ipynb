{
 "cells": [
  {
   "cell_type": "code",
   "execution_count": 1,
   "id": "2bd0e5e1",
   "metadata": {},
   "outputs": [],
   "source": [
    "#List any five functions of the pandas library with execution."
   ]
  },
  {
   "cell_type": "code",
   "execution_count": 2,
   "id": "43679117",
   "metadata": {},
   "outputs": [
    {
     "name": "stdout",
     "output_type": "stream",
     "text": [
      "   Unnamed: 0  PassengerId  Survived  Pclass  \\\n",
      "0           0            1         0       3   \n",
      "1           1            2         1       1   \n",
      "2           2            3         1       3   \n",
      "3           3            4         1       1   \n",
      "4           4            5         0       3   \n",
      "\n",
      "                                                Name     Sex   Age  SibSp  \\\n",
      "0                            Braund, Mr. Owen Harris    male  22.0      1   \n",
      "1  Cumings, Mrs. John Bradley (Florence Briggs Th...  female  38.0      1   \n",
      "2                             Heikkinen, Miss. Laina  female  26.0      0   \n",
      "3       Futrelle, Mrs. Jacques Heath (Lily May Peel)  female  35.0      1   \n",
      "4                           Allen, Mr. William Henry    male  35.0      0   \n",
      "\n",
      "   Parch            Ticket     Fare Cabin Embarked  \n",
      "0      0         A/5 21171   7.2500   NaN        S  \n",
      "1      0          PC 17599  71.2833   C85        C  \n",
      "2      0  STON/O2. 3101282   7.9250   NaN        S  \n",
      "3      0            113803  53.1000  C123        S  \n",
      "4      0            373450   8.0500   NaN        S  \n"
     ]
    }
   ],
   "source": [
    "\"\"\"read_csv():\n",
    "Description: Loads data from a CSV file into a DataFrame.\"\"\"\n",
    "import pandas as pd\n",
    "\n",
    "# Read data from a CSV file\n",
    "df = pd.read_csv('titanic.csv')\n",
    "\n",
    "print(df.head())  # Display the first 5 rows\n"
   ]
  },
  {
   "cell_type": "code",
   "execution_count": 3,
   "id": "30852ae7",
   "metadata": {},
   "outputs": [
    {
     "name": "stdout",
     "output_type": "stream",
     "text": [
      "     Unnamed: 0  PassengerId  Survived  Pclass  \\\n",
      "0             0            1         0       3   \n",
      "1             1            2         1       1   \n",
      "2             2            3         1       3   \n",
      "3             3            4         1       1   \n",
      "4             4            5         0       3   \n",
      "..          ...          ...       ...     ...   \n",
      "886         886          887         0       2   \n",
      "887         887          888         1       1   \n",
      "888         888          889         0       3   \n",
      "889         889          890         1       1   \n",
      "890         890          891         0       3   \n",
      "\n",
      "                                                  Name     Sex   Age  SibSp  \\\n",
      "0                              Braund, Mr. Owen Harris    male  22.0      1   \n",
      "1    Cumings, Mrs. John Bradley (Florence Briggs Th...  female  38.0      1   \n",
      "2                               Heikkinen, Miss. Laina  female  26.0      0   \n",
      "3         Futrelle, Mrs. Jacques Heath (Lily May Peel)  female  35.0      1   \n",
      "4                             Allen, Mr. William Henry    male  35.0      0   \n",
      "..                                                 ...     ...   ...    ...   \n",
      "886                              Montvila, Rev. Juozas    male  27.0      0   \n",
      "887                       Graham, Miss. Margaret Edith  female  19.0      0   \n",
      "888           Johnston, Miss. Catherine Helen \"Carrie\"  female   0.0      1   \n",
      "889                              Behr, Mr. Karl Howell    male  26.0      0   \n",
      "890                                Dooley, Mr. Patrick    male  32.0      0   \n",
      "\n",
      "     Parch            Ticket     Fare Cabin Embarked  \n",
      "0        0         A/5 21171   7.2500     0        S  \n",
      "1        0          PC 17599  71.2833   C85        C  \n",
      "2        0  STON/O2. 3101282   7.9250     0        S  \n",
      "3        0            113803  53.1000  C123        S  \n",
      "4        0            373450   8.0500     0        S  \n",
      "..     ...               ...      ...   ...      ...  \n",
      "886      0            211536  13.0000     0        S  \n",
      "887      0            112053  30.0000   B42        S  \n",
      "888      2        W./C. 6607  23.4500     0        S  \n",
      "889      0            111369  30.0000  C148        C  \n",
      "890      0            370376   7.7500     0        Q  \n",
      "\n",
      "[891 rows x 13 columns]\n"
     ]
    }
   ],
   "source": [
    "\"\"\"fillna():\n",
    "Description: Replaces missing values (NaN) in a DataFrame with specified values.\"\"\"\n",
    "# Fill missing values with zeros\n",
    "df.fillna(0, inplace=True)\n",
    "print(df)\n"
   ]
  },
  {
   "cell_type": "code",
   "execution_count": 4,
   "id": "ea8d19d7",
   "metadata": {},
   "outputs": [
    {
     "name": "stdout",
     "output_type": "stream",
     "text": [
      "Average age: 23.80\n"
     ]
    }
   ],
   "source": [
    "\"\"\"mean():\n",
    "Description: Calculates the mean (average) of a Series or DataFrame.\"\"\"\n",
    "# Calculate the mean age\n",
    "avg_age = df['Age'].mean()\n",
    "print(f\"Average age: {avg_age:.2f}\")\n"
   ]
  },
  {
   "cell_type": "code",
   "execution_count": 6,
   "id": "36d81288",
   "metadata": {},
   "outputs": [
    {
     "name": "stdout",
     "output_type": "stream",
     "text": [
      "    A   B   C\n",
      "1  10  40  70\n",
      "3  20  50  80\n",
      "5  30  60  90\n"
     ]
    }
   ],
   "source": [
    "# Given a Pandas DataFrame df with columns 'A', 'B', and 'C', write a Python function to re-index the \n",
    "#DataFrame with a new index that starts from 1 and increments by 2 for each row\n",
    "import pandas as pd\n",
    "\n",
    "def reindex_dataframe(df):\n",
    "    \"\"\"\n",
    "    Re-indexes the DataFrame with a new index starting from 1 and incrementing by 2.\n",
    "    Args:\n",
    "        df (pd.DataFrame): Input DataFrame with columns 'A', 'B', and 'C'.\n",
    "    Returns:\n",
    "        pd.DataFrame: DataFrame with the new index.\n",
    "    \"\"\"\n",
    "    new_index = pd.RangeIndex(start=1, stop=len(df) * 2, step=2)\n",
    "    df_reindexed = df.set_index(new_index)\n",
    "    return df_reindexed\n",
    "\n",
    "# Example usage:\n",
    "data = {'A': [10, 20, 30],\n",
    "        'B': [40, 50, 60],\n",
    "        'C': [70, 80, 90]}\n",
    "df = pd.DataFrame(data)\n",
    "\n",
    "reindexed_df = reindex_dataframe(df)\n",
    "print(reindexed_df)\n"
   ]
  },
  {
   "cell_type": "code",
   "execution_count": 7,
   "id": "7b200550",
   "metadata": {},
   "outputs": [
    {
     "name": "stdout",
     "output_type": "stream",
     "text": [
      "Sum of the first three values: 60\n"
     ]
    }
   ],
   "source": [
    "\"\"\"You have a Pandas DataFrame df with a column named 'Values'. Write a Python function that \n",
    "iterates over the DataFrame and calculates the sum of the first three values in the 'Values' column. The \n",
    "function should print the sum to the console\"\"\"\n",
    "import pandas as pd\n",
    "\n",
    "def calculate_sum_of_first_three(df):\n",
    "    \"\"\"\n",
    "    Calculates the sum of the first three values in the 'Values' column of the DataFrame.\n",
    "    Args:\n",
    "        df (pd.DataFrame): Input DataFrame with a column named 'Values'.\n",
    "    \"\"\"\n",
    "    try:\n",
    "        # Extract the first three values from the 'Values' column\n",
    "        first_three_values = df['Values'][:3]\n",
    "\n",
    "        # Calculate the sum\n",
    "        total_sum = first_three_values.sum()\n",
    "\n",
    "        print(f\"Sum of the first three values: {total_sum}\")\n",
    "    except KeyError:\n",
    "        print(\"Column 'Values' not found in the DataFrame.\")\n",
    "\n",
    "# Example usage:\n",
    "data = {'Values': [10, 20, 30, 40, 50]}\n",
    "df = pd.DataFrame(data)\n",
    "\n",
    "calculate_sum_of_first_three(df)\n"
   ]
  },
  {
   "cell_type": "code",
   "execution_count": 9,
   "id": "9b5b1054",
   "metadata": {},
   "outputs": [
    {
     "name": "stdout",
     "output_type": "stream",
     "text": [
      "                                 Text  Word_Count\n",
      "0          This is a sample sentence.           5\n",
      "1  Pandas is great for data analysis.           6\n",
      "2    Python programming is versatile.           4\n"
     ]
    }
   ],
   "source": [
    "\"\"\"Given a Pandas DataFrame df with a column 'Text', write a Python function to create a new column \n",
    "'Word_Count' that contains the number of words in each row of the 'Text' column\"\"\"\n",
    "import pandas as pd\n",
    "\n",
    "def add_word_count_column(df):\n",
    "    \"\"\"\n",
    "    Adds a new column 'Word_Count' to the DataFrame, containing the word count for each row in the 'Text' column.\n",
    "    Args:\n",
    "        df (pd.DataFrame): Input DataFrame with a column named 'Text'.\n",
    "    Returns:\n",
    "        pd.DataFrame: DataFrame with the new 'Word_Count' column.\n",
    "    \"\"\"\n",
    "    # Split the text into words and count them\n",
    "    df['Word_Count'] = df['Text'].apply(lambda x: len(x.split()))\n",
    "\n",
    "    return df\n",
    "\n",
    "# Example usage:\n",
    "data = {'Text': [\"This is a sample sentence.\",\n",
    "                 \"Pandas is great for data analysis.\",\n",
    "                 \"Python programming is versatile.\"]}\n",
    "df = pd.DataFrame(data)\n",
    "\n",
    "result_df = add_word_count_column(df)\n",
    "print(result_df)\n"
   ]
  },
  {
   "cell_type": "code",
   "execution_count": 10,
   "id": "112c1072",
   "metadata": {},
   "outputs": [
    {
     "data": {
      "text/plain": [
       "'DataFrame.size():\\nDescription: The size() method returns the total number of elements (cells) in the DataFrame.\\nIt calculates the product of the number of rows and the number of columns.\\nThe result includes both non-null and null (NaN) values.\\nDataFrame.shape():\\nDescription: The shape() attribute returns a tuple representing the dimensions of the DataFrame.\\nIt provides the number of rows and columns (in that order).\\nThe result does not include null (NaN) values.\\n'"
      ]
     },
     "execution_count": 10,
     "metadata": {},
     "output_type": "execute_result"
    }
   ],
   "source": [
    "#. How are DataFrame.size() and DataFrame.shape() different\n",
    "\"\"\"DataFrame.size():\n",
    "Description: The size() method returns the total number of elements (cells) in the DataFrame.\n",
    "It calculates the product of the number of rows and the number of columns.\n",
    "The result includes both non-null and null (NaN) values.\n",
    "DataFrame.shape():\n",
    "Description: The shape() attribute returns a tuple representing the dimensions of the DataFrame.\n",
    "It provides the number of rows and columns (in that order).\n",
    "The result does not include null (NaN) values.\n",
    "\"\"\""
   ]
  },
  {
   "cell_type": "code",
   "execution_count": 11,
   "id": "42d14496",
   "metadata": {},
   "outputs": [
    {
     "name": "stdout",
     "output_type": "stream",
     "text": [
      "Total elements in the DataFrame: 6\n"
     ]
    }
   ],
   "source": [
    "import pandas as pd\n",
    "\n",
    "data = {'A': [1, 2, 3],\n",
    "        'B': [4, 5, 6]}\n",
    "df = pd.DataFrame(data)\n",
    "\n",
    "total_elements = df.size\n",
    "print(f\"Total elements in the DataFrame: {total_elements}\")\n"
   ]
  },
  {
   "cell_type": "code",
   "execution_count": 12,
   "id": "d1d6b562",
   "metadata": {},
   "outputs": [
    {
     "name": "stdout",
     "output_type": "stream",
     "text": [
      "Number of rows: 3, Number of columns: 2\n"
     ]
    }
   ],
   "source": [
    "num_rows, num_columns = df.shape\n",
    "print(f\"Number of rows: {num_rows}, Number of columns: {num_columns}\")\n"
   ]
  },
  {
   "cell_type": "code",
   "execution_count": 14,
   "id": "979c69bc",
   "metadata": {},
   "outputs": [
    {
     "data": {
      "text/plain": [
       "'To read an Excel file in Pandas, you can use the pandas.read_excel() function. This function allows you to load data from an Excel file (with extensions like .xls, .xlsx, .xlsm, .xlsb, .odf, .ods, or .odt) into a Pandas DataFrame. You can read from a local filesystem or provide a URL.'"
      ]
     },
     "execution_count": 14,
     "metadata": {},
     "output_type": "execute_result"
    }
   ],
   "source": [
    "#Which function of pandas do we use to read an excel file\n",
    "\"\"\"To read an Excel file in Pandas, you can use the pandas.read_excel() function. This function allows you to load data from an Excel file (with extensions like .xls, .xlsx, .xlsm, .xlsb, .odf, .ods, or .odt) into a Pandas DataFrame. You can read from a local filesystem or provide a URL.\"\"\""
   ]
  },
  {
   "cell_type": "code",
   "execution_count": 15,
   "id": "e14ed508",
   "metadata": {},
   "outputs": [
    {
     "name": "stdout",
     "output_type": "stream",
     "text": [
      "        Date\n",
      "0 2023-01-05\n",
      "1 2023-01-15\n",
      "3 2023-01-25\n"
     ]
    }
   ],
   "source": [
    "#Given a Pandas DataFrame df with a column 'Date' that contains timestamps, write a Python \n",
    "#function to select all rows where the date is between '2023-01-01' and '2023-01-31'\n",
    "import pandas as pd\n",
    "\n",
    "def filter_date_range(df):\n",
    "    \"\"\"\n",
    "    Filters the DataFrame to include rows with dates between '2023-01-01' and '2023-01-31'.\n",
    "    Args:\n",
    "        df (pd.DataFrame): Input DataFrame with a column named 'Date'.\n",
    "    Returns:\n",
    "        pd.DataFrame: DataFrame containing filtered rows.\n",
    "    \"\"\"\n",
    "    try:\n",
    "        # Convert the 'Date' column to datetime if not already\n",
    "        df['Date'] = pd.to_datetime(df['Date'])\n",
    "\n",
    "        # Filter rows within the specified date range\n",
    "        filtered_df = df[(df['Date'] >= '2023-01-01') & (df['Date'] <= '2023-01-31')]\n",
    "\n",
    "        return filtered_df\n",
    "    except KeyError:\n",
    "        print(\"Column 'Date' not found in the DataFrame.\")\n",
    "\n",
    "# Example usage:\n",
    "data = {'Date': ['2023-01-05', '2023-01-15', '2023-02-10', '2023-01-25']}\n",
    "df = pd.DataFrame(data)\n",
    "\n",
    "filtered_data = filter_date_range(df)\n",
    "print(filtered_data)\n"
   ]
  },
  {
   "cell_type": "code",
   "execution_count": 16,
   "id": "87b3bca2",
   "metadata": {},
   "outputs": [],
   "source": [
    "# To use the basic functions of pandas, what is the first and foremost necessary library that needs to \n",
    "#be imported\n",
    "import pandas as pd\n"
   ]
  },
  {
   "cell_type": "code",
   "execution_count": 17,
   "id": "712b6f8f",
   "metadata": {},
   "outputs": [
    {
     "data": {
      "text/plain": [
       "\"You have a Pandas DataFrame df with a column 'Date'. Write a Python function that creates a new \\ncolumn 'Weekday' in the DataFrame. The 'Weekday' column should contain the weekday name (e.g. \\nMonday, Tuesday) corresponding to each date in the 'Date' column.\\n For example, if df contains the following values:\\n Date\\n 0  2023-01-01\\n 1  2023-01-02\\n 2  2023-01-03\\n 3  2023-01-04\\n 4  2023-01-05\\n Your function should create the following DataFrame:\\n Date               \\nWeekday\\n 0  2023-01-01     Sunday\\n 1  2023-01-02     Monday\\n 2  2023-01-03    Tuesday\\n 3  2023-01-04    Wednesday\\n 4  2023-01-05    Thursday\\n Data Science Masters\\n The function should return the modified DataFrame\""
      ]
     },
     "execution_count": 17,
     "metadata": {},
     "output_type": "execute_result"
    }
   ],
   "source": [
    "\"\"\"You have a Pandas DataFrame df with a column 'Date'. Write a Python function that creates a new \n",
    "column 'Weekday' in the DataFrame. The 'Weekday' column should contain the weekday name (e.g. \n",
    "Monday, Tuesday) corresponding to each date in the 'Date' column.\n",
    " For example, if df contains the following values:\n",
    " Date\n",
    " 0  2023-01-01\n",
    " 1  2023-01-02\n",
    " 2  2023-01-03\n",
    " 3  2023-01-04\n",
    " 4  2023-01-05\n",
    " Your function should create the following DataFrame:\n",
    " Date               \n",
    "Weekday\n",
    " 0  2023-01-01     Sunday\n",
    " 1  2023-01-02     Monday\n",
    " 2  2023-01-03    Tuesday\n",
    " 3  2023-01-04    Wednesday\n",
    " 4  2023-01-05    Thursday\n",
    " Data Science Masters\n",
    " The function should return the modified DataFrame\"\"\""
   ]
  },
  {
   "cell_type": "code",
   "execution_count": 18,
   "id": "14dc23e4",
   "metadata": {},
   "outputs": [
    {
     "name": "stdout",
     "output_type": "stream",
     "text": [
      "        Date    Weekday\n",
      "0 2023-01-01     Sunday\n",
      "1 2023-01-02     Monday\n",
      "2 2023-01-03    Tuesday\n",
      "3 2023-01-04  Wednesday\n",
      "4 2023-01-05   Thursday\n"
     ]
    }
   ],
   "source": [
    "import pandas as pd\n",
    "\n",
    "def add_weekday_column(df):\n",
    "    \"\"\"\n",
    "    Adds a new column 'Weekday' to the DataFrame, containing the weekday names for each date in the 'Date' column.\n",
    "    Args:\n",
    "        df (pd.DataFrame): Input DataFrame with a column named 'Date'.\n",
    "    Returns:\n",
    "        pd.DataFrame: DataFrame with the new 'Weekday' column.\n",
    "    \"\"\"\n",
    "    try:\n",
    "        # Convert the 'Date' column to datetime if not already\n",
    "        df['Date'] = pd.to_datetime(df['Date'])\n",
    "\n",
    "        # Extract the weekday names\n",
    "        df['Weekday'] = df['Date'].dt.strftime('%A')\n",
    "\n",
    "        return df\n",
    "    except KeyError:\n",
    "        print(\"Column 'Date' not found in the DataFrame.\")\n",
    "\n",
    "# Example usage:\n",
    "data = {'Date': ['2023-01-01', '2023-01-02', '2023-01-03', '2023-01-04', '2023-01-05']}\n",
    "df = pd.DataFrame(data)\n",
    "\n",
    "modified_df = add_weekday_column(df)\n",
    "print(modified_df)\n"
   ]
  },
  {
   "cell_type": "code",
   "execution_count": null,
   "id": "c1c05831",
   "metadata": {},
   "outputs": [],
   "source": []
  }
 ],
 "metadata": {
  "kernelspec": {
   "display_name": "Python 3 (ipykernel)",
   "language": "python",
   "name": "python3"
  },
  "language_info": {
   "codemirror_mode": {
    "name": "ipython",
    "version": 3
   },
   "file_extension": ".py",
   "mimetype": "text/x-python",
   "name": "python",
   "nbconvert_exporter": "python",
   "pygments_lexer": "ipython3",
   "version": "3.10.9"
  }
 },
 "nbformat": 4,
 "nbformat_minor": 5
}
